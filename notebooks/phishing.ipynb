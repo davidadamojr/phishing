{
 "cells": [
  {
   "cell_type": "markdown",
   "metadata": {},
   "source": [
    "# ML Identification of Phishing Websites\n",
    "\n",
    "## Load Dataset\n"
   ]
  },
  {
   "cell_type": "code",
   "execution_count": 1,
   "metadata": {},
   "outputs": [
    {
     "data": {
      "application/javascript": [
       "IPython.notebook.set_autosave_interval(60000)"
      ]
     },
     "metadata": {},
     "output_type": "display_data"
    },
    {
     "name": "stdout",
     "output_type": "stream",
     "text": [
      "Autosaving every 60 seconds\n"
     ]
    },
    {
     "data": {
      "text/html": [
       "<div>\n",
       "<style scoped>\n",
       "    .dataframe tbody tr th:only-of-type {\n",
       "        vertical-align: middle;\n",
       "    }\n",
       "\n",
       "    .dataframe tbody tr th {\n",
       "        vertical-align: top;\n",
       "    }\n",
       "\n",
       "    .dataframe thead th {\n",
       "        text-align: right;\n",
       "    }\n",
       "</style>\n",
       "<table border=\"1\" class=\"dataframe\">\n",
       "  <thead>\n",
       "    <tr style=\"text-align: right;\">\n",
       "      <th></th>\n",
       "      <th>id</th>\n",
       "      <th>having_IP_Address</th>\n",
       "      <th>URL_Length</th>\n",
       "      <th>Shortening_Service</th>\n",
       "      <th>having_At_Symbol</th>\n",
       "      <th>double_slash_redirecting</th>\n",
       "      <th>Prefix_Suffix</th>\n",
       "      <th>having_Sub_Domain</th>\n",
       "      <th>SSLfinal_State</th>\n",
       "      <th>Domain_registeration_length</th>\n",
       "      <th>...</th>\n",
       "      <th>popUpWidnow</th>\n",
       "      <th>Iframe</th>\n",
       "      <th>age_of_domain</th>\n",
       "      <th>DNSRecord</th>\n",
       "      <th>web_traffic</th>\n",
       "      <th>Page_Rank</th>\n",
       "      <th>Google_Index</th>\n",
       "      <th>Links_pointing_to_page</th>\n",
       "      <th>Statistical_report</th>\n",
       "      <th>Result</th>\n",
       "    </tr>\n",
       "  </thead>\n",
       "  <tbody>\n",
       "    <tr>\n",
       "      <th>0</th>\n",
       "      <td>1</td>\n",
       "      <td>-1</td>\n",
       "      <td>1</td>\n",
       "      <td>1</td>\n",
       "      <td>1</td>\n",
       "      <td>-1</td>\n",
       "      <td>-1</td>\n",
       "      <td>-1</td>\n",
       "      <td>-1</td>\n",
       "      <td>-1</td>\n",
       "      <td>...</td>\n",
       "      <td>1</td>\n",
       "      <td>1</td>\n",
       "      <td>-1</td>\n",
       "      <td>-1</td>\n",
       "      <td>-1</td>\n",
       "      <td>-1</td>\n",
       "      <td>1</td>\n",
       "      <td>1</td>\n",
       "      <td>-1</td>\n",
       "      <td>-1</td>\n",
       "    </tr>\n",
       "    <tr>\n",
       "      <th>1</th>\n",
       "      <td>2</td>\n",
       "      <td>1</td>\n",
       "      <td>1</td>\n",
       "      <td>1</td>\n",
       "      <td>1</td>\n",
       "      <td>1</td>\n",
       "      <td>-1</td>\n",
       "      <td>0</td>\n",
       "      <td>1</td>\n",
       "      <td>-1</td>\n",
       "      <td>...</td>\n",
       "      <td>1</td>\n",
       "      <td>1</td>\n",
       "      <td>-1</td>\n",
       "      <td>-1</td>\n",
       "      <td>0</td>\n",
       "      <td>-1</td>\n",
       "      <td>1</td>\n",
       "      <td>1</td>\n",
       "      <td>1</td>\n",
       "      <td>-1</td>\n",
       "    </tr>\n",
       "    <tr>\n",
       "      <th>2</th>\n",
       "      <td>3</td>\n",
       "      <td>1</td>\n",
       "      <td>0</td>\n",
       "      <td>1</td>\n",
       "      <td>1</td>\n",
       "      <td>1</td>\n",
       "      <td>-1</td>\n",
       "      <td>-1</td>\n",
       "      <td>-1</td>\n",
       "      <td>-1</td>\n",
       "      <td>...</td>\n",
       "      <td>1</td>\n",
       "      <td>1</td>\n",
       "      <td>1</td>\n",
       "      <td>-1</td>\n",
       "      <td>1</td>\n",
       "      <td>-1</td>\n",
       "      <td>1</td>\n",
       "      <td>0</td>\n",
       "      <td>-1</td>\n",
       "      <td>-1</td>\n",
       "    </tr>\n",
       "    <tr>\n",
       "      <th>3</th>\n",
       "      <td>4</td>\n",
       "      <td>1</td>\n",
       "      <td>0</td>\n",
       "      <td>1</td>\n",
       "      <td>1</td>\n",
       "      <td>1</td>\n",
       "      <td>-1</td>\n",
       "      <td>-1</td>\n",
       "      <td>-1</td>\n",
       "      <td>1</td>\n",
       "      <td>...</td>\n",
       "      <td>1</td>\n",
       "      <td>1</td>\n",
       "      <td>-1</td>\n",
       "      <td>-1</td>\n",
       "      <td>1</td>\n",
       "      <td>-1</td>\n",
       "      <td>1</td>\n",
       "      <td>-1</td>\n",
       "      <td>1</td>\n",
       "      <td>-1</td>\n",
       "    </tr>\n",
       "    <tr>\n",
       "      <th>4</th>\n",
       "      <td>5</td>\n",
       "      <td>1</td>\n",
       "      <td>0</td>\n",
       "      <td>-1</td>\n",
       "      <td>1</td>\n",
       "      <td>1</td>\n",
       "      <td>-1</td>\n",
       "      <td>1</td>\n",
       "      <td>1</td>\n",
       "      <td>-1</td>\n",
       "      <td>...</td>\n",
       "      <td>-1</td>\n",
       "      <td>1</td>\n",
       "      <td>-1</td>\n",
       "      <td>-1</td>\n",
       "      <td>0</td>\n",
       "      <td>-1</td>\n",
       "      <td>1</td>\n",
       "      <td>1</td>\n",
       "      <td>1</td>\n",
       "      <td>1</td>\n",
       "    </tr>\n",
       "  </tbody>\n",
       "</table>\n",
       "<p>5 rows × 32 columns</p>\n",
       "</div>"
      ],
      "text/plain": [
       "   id  having_IP_Address  URL_Length  Shortening_Service  having_At_Symbol  \\\n",
       "0   1                 -1           1                   1                 1   \n",
       "1   2                  1           1                   1                 1   \n",
       "2   3                  1           0                   1                 1   \n",
       "3   4                  1           0                   1                 1   \n",
       "4   5                  1           0                  -1                 1   \n",
       "\n",
       "   double_slash_redirecting  Prefix_Suffix  having_Sub_Domain  SSLfinal_State  \\\n",
       "0                        -1             -1                 -1              -1   \n",
       "1                         1             -1                  0               1   \n",
       "2                         1             -1                 -1              -1   \n",
       "3                         1             -1                 -1              -1   \n",
       "4                         1             -1                  1               1   \n",
       "\n",
       "   Domain_registeration_length   ...    popUpWidnow  Iframe  age_of_domain  \\\n",
       "0                           -1   ...              1       1             -1   \n",
       "1                           -1   ...              1       1             -1   \n",
       "2                           -1   ...              1       1              1   \n",
       "3                            1   ...              1       1             -1   \n",
       "4                           -1   ...             -1       1             -1   \n",
       "\n",
       "   DNSRecord  web_traffic  Page_Rank  Google_Index  Links_pointing_to_page  \\\n",
       "0         -1           -1         -1             1                       1   \n",
       "1         -1            0         -1             1                       1   \n",
       "2         -1            1         -1             1                       0   \n",
       "3         -1            1         -1             1                      -1   \n",
       "4         -1            0         -1             1                       1   \n",
       "\n",
       "   Statistical_report  Result  \n",
       "0                  -1      -1  \n",
       "1                   1      -1  \n",
       "2                  -1      -1  \n",
       "3                   1      -1  \n",
       "4                   1       1  \n",
       "\n",
       "[5 rows x 32 columns]"
      ]
     },
     "execution_count": 1,
     "metadata": {},
     "output_type": "execute_result"
    }
   ],
   "source": [
    "%autosave 60\n",
    "%matplotlib inline\n",
    "\n",
    "import os\n",
    "import pandas as pd\n",
    "import numpy as np\n",
    "\n",
    "dataset_path = os.path.join('..', 'data', 'raw', 'phishing_websites.csv')\n",
    "phishing_dataset = pd.read_csv(dataset_path)\n",
    "\n",
    "phishing_dataset.head()"
   ]
  },
  {
   "cell_type": "markdown",
   "metadata": {},
   "source": [
    "## Dataset Characteristics\n",
    "\n",
    "The data is encoded such that a particular feature for a given data point signifies whether the URL represented by that data point is legitimate (1), suspicious (0) or phishy (-1) with respect to the feature. \n",
    "\n",
    "### Target Classes\n",
    "\n",
    "Categorical values for features: 1 = legitimate, 0 = suspicious, -1 = phishy.\n",
    "Target classes: 1 = legitimate, -1 = phishy\n"
   ]
  },
  {
   "cell_type": "markdown",
   "metadata": {},
   "source": [
    "## Data Exploration"
   ]
  },
  {
   "cell_type": "code",
   "execution_count": 2,
   "metadata": {},
   "outputs": [
    {
     "name": "stdout",
     "output_type": "stream",
     "text": [
      "<class 'pandas.core.frame.DataFrame'>\n",
      "RangeIndex: 11055 entries, 0 to 11054\n",
      "Data columns (total 32 columns):\n",
      "id                             11055 non-null int64\n",
      "having_IP_Address              11055 non-null int64\n",
      "URL_Length                     11055 non-null int64\n",
      "Shortening_Service             11055 non-null int64\n",
      "having_At_Symbol               11055 non-null int64\n",
      "double_slash_redirecting       11055 non-null int64\n",
      "Prefix_Suffix                  11055 non-null int64\n",
      "having_Sub_Domain              11055 non-null int64\n",
      "SSLfinal_State                 11055 non-null int64\n",
      "Domain_registeration_length    11055 non-null int64\n",
      "Favicon                        11055 non-null int64\n",
      "port                           11055 non-null int64\n",
      "HTTPS_token                    11055 non-null int64\n",
      "Request_URL                    11055 non-null int64\n",
      "URL_of_Anchor                  11055 non-null int64\n",
      "Links_in_tags                  11055 non-null int64\n",
      "SFH                            11055 non-null int64\n",
      "Submitting_to_email            11055 non-null int64\n",
      "Abnormal_URL                   11055 non-null int64\n",
      "Redirect                       11055 non-null int64\n",
      "on_mouseover                   11055 non-null int64\n",
      "RightClick                     11055 non-null int64\n",
      "popUpWidnow                    11055 non-null int64\n",
      "Iframe                         11055 non-null int64\n",
      "age_of_domain                  11055 non-null int64\n",
      "DNSRecord                      11055 non-null int64\n",
      "web_traffic                    11055 non-null int64\n",
      "Page_Rank                      11055 non-null int64\n",
      "Google_Index                   11055 non-null int64\n",
      "Links_pointing_to_page         11055 non-null int64\n",
      "Statistical_report             11055 non-null int64\n",
      "Result                         11055 non-null int64\n",
      "dtypes: int64(32)\n",
      "memory usage: 2.7 MB\n"
     ]
    }
   ],
   "source": [
    "phishing_dataset.info()"
   ]
  },
  {
   "cell_type": "code",
   "execution_count": 3,
   "metadata": {},
   "outputs": [
    {
     "name": "stdout",
     "output_type": "stream",
     "text": [
      "\n",
      "Number of phishy websites: 4898\n",
      "\n",
      "Number of legitimate websites: 6157\n"
     ]
    }
   ],
   "source": [
    "phishing_df = pd.DataFrame(phishing_dataset)\n",
    "num_phishy = len(phishing_df[phishing_df['Result'] == -1])\n",
    "num_legitimate = len(phishing_df[phishing_df['Result'] == 1])\n",
    "\n",
    "print('\\nNumber of phishy websites: {}'.format(num_phishy))\n",
    "print('\\nNumber of legitimate websites: {}'.format(num_legitimate))"
   ]
  },
  {
   "cell_type": "markdown",
   "metadata": {},
   "source": [
    "## Shuffle and Split Data"
   ]
  },
  {
   "cell_type": "code",
   "execution_count": 4,
   "metadata": {},
   "outputs": [
    {
     "name": "stdout",
     "output_type": "stream",
     "text": [
      "Training set has 8844 samples.\n",
      "Testing set has 2211 samples.\n"
     ]
    }
   ],
   "source": [
    "from sklearn.model_selection import train_test_split\n",
    "\n",
    "phishing_classifications = phishing_df['Result']\n",
    "phishing_features = phishing_df.drop('Result', axis=1)\n",
    "\n",
    "X_train, X_test, y_train, y_test = train_test_split(phishing_features,\n",
    "                                                   phishing_classifications,\n",
    "                                                   test_size=0.2,\n",
    "                                                   random_state=0)\n",
    "\n",
    "print('Training set has {} samples.'.format(X_train.shape[0]))\n",
    "print('Testing set has {} samples.'.format(X_test.shape[0]))"
   ]
  },
  {
   "cell_type": "markdown",
   "metadata": {},
   "source": [
    "## Training and Predicting Pipeline"
   ]
  },
  {
   "cell_type": "code",
   "execution_count": 5,
   "metadata": {},
   "outputs": [],
   "source": [
    "from time import time\n",
    "from sklearn.metrics import accuracy_score, f1_score\n",
    "\n",
    "def train_predict(learner, sample_size, X_train, y_train, X_test, y_test):\n",
    "    results = {}\n",
    "    \n",
    "    # fit the learner to the training data\n",
    "    start = time()\n",
    "    learner.fit(X_train[:sample_size], y_train[:sample_size])\n",
    "    end = time()\n",
    "    \n",
    "    results['train_time'] = end - start\n",
    "    \n",
    "    # make predictions on the test set, and make predictions on the first 2000 training samples\n",
    "    start = time()\n",
    "    predictions_test = learner.predict(X_test)\n",
    "    predictions_train = learner.predict(X_train[:2000])\n",
    "    end = time()\n",
    "    \n",
    "    results['pred_time'] = end - start\n",
    "    \n",
    "    results['acc_train'] = accuracy_score(y_train[:2000], predictions_train)\n",
    "    results['acc_test'] = accuracy_score(y_test, predictions_test)\n",
    "    results['f_train'] = accuracy_score(y_train[:2000], predictions_train)\n",
    "    results['f_test'] = f1_score(y_test, predictions_test)\n",
    "    \n",
    "    print('{} trained on {} samples.'.format(learner.__class__.__name__, sample_size))\n",
    "    \n",
    "    return results"
   ]
  },
  {
   "cell_type": "markdown",
   "metadata": {},
   "source": [
    "## Naive Predictor"
   ]
  },
  {
   "cell_type": "code",
   "execution_count": 6,
   "metadata": {},
   "outputs": [
    {
     "name": "stdout",
     "output_type": "stream",
     "text": [
      "Naive predictor: [Accuracy: 44.3057, precision: 0.4431, recall: 1.0000, f1_score: 0.6141]\n"
     ]
    }
   ],
   "source": [
    "baseline_accuracy = num_phishy / len(phishing_df) * 100\n",
    "false_positives = num_legitimate\n",
    "true_positives = num_phishy\n",
    "false_negatives = 0\n",
    "baseline_precision = true_positives / (true_positives + false_positives)\n",
    "baseline_recall = true_positives / (true_positives + false_negatives)\n",
    "baseline_f1_score = 2 * baseline_precision * baseline_recall / (baseline_precision + baseline_recall)\n",
    "\n",
    "print(\"Naive predictor: [Accuracy: {:.4f}, precision: {:.4f}, recall: {:.4f}, \\\n",
    "f1_score: {:.4f}]\".format(baseline_accuracy, baseline_precision, baseline_recall, baseline_f1_score))"
   ]
  },
  {
   "cell_type": "markdown",
   "metadata": {},
   "source": [
    "## Initial Model Evaluation"
   ]
  },
  {
   "cell_type": "code",
   "execution_count": 7,
   "metadata": {},
   "outputs": [
    {
     "name": "stderr",
     "output_type": "stream",
     "text": [
      "/home/davidadamojr/anaconda3/lib/python3.6/site-packages/sklearn/ensemble/forest.py:248: FutureWarning: The default value of n_estimators will change from 10 in version 0.20 to 100 in 0.22.\n",
      "  \"10 in version 0.20 to 100 in 0.22.\", FutureWarning)\n"
     ]
    },
    {
     "name": "stdout",
     "output_type": "stream",
     "text": [
      "RandomForestClassifier trained on 88 samples.\n",
      "RandomForestClassifier trained on 884 samples.\n",
      "RandomForestClassifier trained on 8844 samples.\n",
      "GradientBoostingClassifier trained on 88 samples.\n",
      "GradientBoostingClassifier trained on 884 samples.\n",
      "GradientBoostingClassifier trained on 8844 samples.\n"
     ]
    },
    {
     "data": {
      "image/png": "[encoded data removed]",
      "text/plain": [
       "<matplotlib.figure.Figure at 0x7f83b6a315f8>"
      ]
     },
     "metadata": {},
     "output_type": "display_data"
    }
   ],
   "source": [
    "from sklearn.ensemble import RandomForestClassifier, GradientBoostingClassifier, AdaBoostClassifier\n",
    "\n",
    "import visualize as vs\n",
    "\n",
    "random_forest_clf = RandomForestClassifier(random_state=42)\n",
    "gradient_boosting_clf = GradientBoostingClassifier(random_state=42)\n",
    "\n",
    "one_percent_sample = int(len(X_train) * 0.01)\n",
    "ten_percent_sample = int(len(X_train) * 0.1)\n",
    "hundred_percent_sample = int(len(X_train))\n",
    "\n",
    "results = {}\n",
    "for classifier in [random_forest_clf, gradient_boosting_clf]:\n",
    "    classifier_name = classifier.__class__.__name__\n",
    "    results[classifier_name] = {}\n",
    "    for i, samples in enumerate([one_percent_sample, ten_percent_sample, hundred_percent_sample]):\n",
    "        results[classifier_name][i] = train_predict(classifier, samples, X_train, y_train, X_test, y_test)\n",
    "\n",
    "vs.evaluate(results, baseline_accuracy, baseline_f1_score)"
   ]
  },
  {
   "cell_type": "markdown",
   "metadata": {},
   "source": [
    "## Model Tuning: Random Forest Classifier"
   ]
  },
  {
   "cell_type": "code",
   "execution_count": null,
   "metadata": {},
   "outputs": [
    {
     "name": "stdout",
     "output_type": "stream",
     "text": [
      "Fitting 3 folds for each of 100 candidates, totalling 300 fits\n"
     ]
    },
    {
     "name": "stderr",
     "output_type": "stream",
     "text": [
      "[Parallel(n_jobs=3)]: Using backend LokyBackend with 3 concurrent workers.\n",
      "[Parallel(n_jobs=3)]: Done  35 tasks      | elapsed:  3.1min\n"
     ]
    }
   ],
   "source": [
    "import random\n",
    "from sklearn.model_selection import RandomizedSearchCV\n",
    "from sklearn.metrics import make_scorer, f1_score\n",
    "\n",
    "random.seed(42)\n",
    "\n",
    "rf_classifier = RandomForestClassifier(random_state=42)\n",
    "n_estimators = [int(x) for x in np.linspace(100, 2000, 10)]\n",
    "max_features = ['auto', 'sqrt', None]\n",
    "max_depth = [int(x) for x in np.linspace(2, 100, 10)]\n",
    "max_depth.append(None)\n",
    "min_samples_split = [2, 5, 10]\n",
    "min_samples_leaf = [1, 2, 4]\n",
    "bootstrap = [True, False]\n",
    "\n",
    "parameters = {\n",
    "    'n_estimators': n_estimators,\n",
    "    'max_features': max_features,\n",
    "    'max_depth': max_depth,\n",
    "    'min_samples_split': min_samples_split,\n",
    "    'bootstrap': bootstrap\n",
    "}\n",
    "rf_scorer = make_scorer(f1_score)\n",
    "grid_obj = RandomizedSearchCV(rf_classifier, parameters, n_iter=100, scoring=rf_scorer, cv=3, verbose=2, n_jobs=3)\n",
    "grid_fit = grid_obj.fit(X_train, y_train)\n",
    "best_rf_classifier = grid_fit.best_estimator_\n",
    "\n",
    "unoptimized_predictions = (rf_classifier.fit(X_train, y_train)).predict(X_test)\n",
    "optimized_predictions = best_rf_classifier.predict(X_test)\n",
    "\n",
    "print('Unoptimized model')\n",
    "print('-----------------')\n",
    "print('Accuracy score on testing data: {:.4f}'.format(accuracy_score(y_test, unoptimized_predictions)))\n",
    "print('f1 score on testing data: {:.4f}'.format(f1_score(y_test, unoptimized_predictions)))\n",
    "\n",
    "print('\\nOptimized model')\n",
    "print('-----------------')\n",
    "print('Accuracy score on testing data: {:.4f}'.format(accuracy_score(y_test, optimized_predictions)))\n",
    "print('f1 score on testing data: {:.4f}'.format(f1_score(y_test, optimized_predictions)))\n"
   ]
  },
  {
   "cell_type": "code",
   "execution_count": 9,
   "metadata": {},
   "outputs": [
    {
     "name": "stdout",
     "output_type": "stream",
     "text": [
      "{'max_features': 'auto', 'n_estimators': 100}\n"
     ]
    }
   ],
   "source": [
    "print(grid_fit.best_params_)"
   ]
  },
  {
   "cell_type": "markdown",
   "metadata": {},
   "source": [
    "## Model Tuning: Gradient Boosting Classifier"
   ]
  },
  {
   "cell_type": "code",
   "execution_count": null,
   "metadata": {},
   "outputs": [],
   "source": [
    "from xgboost import XGBClassifier\n",
    "gb_classifier = XGBClassifier(random_state=42)\n",
    "parameters = {\n",
    "    'learning_rate': [0.01, 0.1, 0.2, 0.3, 1.0],\n",
    "    'n_estimators': [200, 400, 600, 800, 1000],\n",
    "    'max_depth': [2, 4, 8, 16, 32]\n",
    "}\n",
    "gb_scorer = make_scorer(f1_score)\n",
    "gb_grid_obj = GridSearchCV(gb_classifier, parameters, scoring=gb_scorer, cv=3)\n",
    "gb_grid_fit = gb_grid_obj.fit(X_train, y_train)\n",
    "best_gb_classifier = gb_grid_fit.best_estimator_\n",
    "\n",
    "gb_unoptimized_predictions = (gb_classifier.fit(X_train, y_train)).predict(X_test)\n",
    "gb_optimized_predictions = best_gb_classifier.predict(X_test)\n",
    "\n",
    "print('Unoptimized GB model')\n",
    "print('---------------------')\n",
    "print('Accuracy score on testing data: {:.4f}'.format(accuracy_score(y_test, gb_unoptimized_predictions)))\n",
    "print('f1 score on testing data: {:.4f}'.format(f1_score(y_test, gb_unoptimized_predictions)))\n",
    "\n",
    "print('\\nOptimized GB model')\n",
    "print('------------------')\n",
    "print('Accuracy score on testing data: {:.4f}'.format(accuracy_score(y_test, gb_optimized_predictions)))\n",
    "print('f1 score on testing data: {:.4f}'.format(f1_score(y_test, gb_optimized_predictions)))"
   ]
  },
  {
   "cell_type": "code",
   "execution_count": 80,
   "metadata": {},
   "outputs": [
    {
     "name": "stdout",
     "output_type": "stream",
     "text": [
      "{'learning_rate': 0.1, 'max_depth': 8, 'n_estimators': 33}\n"
     ]
    }
   ],
   "source": [
    "print(gb_grid_fit.best_params_)"
   ]
  },
  {
   "cell_type": "code",
   "execution_count": null,
   "metadata": {},
   "outputs": [],
   "source": []
  }
 ],
 "metadata": {
  "kernelspec": {
   "display_name": "Python 3",
   "language": "python",
   "name": "python3"
  },
  "language_info": {
   "codemirror_mode": {
    "name": "ipython",
    "version": 3
   },
   "file_extension": ".py",
   "mimetype": "text/x-python",
   "name": "python",
   "nbconvert_exporter": "python",
   "pygments_lexer": "ipython3",
   "version": "3.6.4"
  }
 },
 "nbformat": 4,
 "nbformat_minor": 1
}
